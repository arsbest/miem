{
 "cells": [
  {
   "cell_type": "code",
   "execution_count": 6,
   "metadata": {},
   "outputs": [
    {
     "name": "stdout",
     "output_type": "stream",
     "text": [
      "0010 0011 11 \n"
     ]
    }
   ],
   "source": [
    "# вычисление дробной части\n",
    "\n",
    "a = 0.14\n",
    "r = ''\n",
    "bits_count = 23\n",
    "\n",
    "for _ in range(bits_count):\n",
    "    a *= 2\n",
    "    r += str(int(a))\n",
    "    a = a % 1\n",
    "\n",
    "s = ''\n",
    "for i in range(4, len(r) + 4, 4):\n",
    "    s += r[i-4:i] + ' '\n",
    "\n",
    "print(s)"
   ]
  },
  {
   "cell_type": "code",
   "execution_count": 11,
   "metadata": {},
   "outputs": [
    {
     "name": "stdout",
     "output_type": "stream",
     "text": [
      "46 1A D4 EC\n"
     ]
    }
   ],
   "source": [
    "import struct\n",
    "\n",
    "v = 9909.23\n",
    "\n",
    "ba = bytearray(struct.pack(\"f\", v))\n",
    "\n",
    "print(*reversed([\"%02X\" % b for b in ba]))"
   ]
  },
  {
   "cell_type": "code",
   "execution_count": null,
   "metadata": {},
   "outputs": [],
   "source": []
  }
 ],
 "metadata": {
  "kernelspec": {
   "display_name": "Python 3",
   "language": "python",
   "name": "python3"
  },
  "language_info": {
   "codemirror_mode": {
    "name": "ipython",
    "version": 3
   },
   "file_extension": ".py",
   "mimetype": "text/x-python",
   "name": "python",
   "nbconvert_exporter": "python",
   "pygments_lexer": "ipython3",
   "version": "3.7.0"
  }
 },
 "nbformat": 4,
 "nbformat_minor": 2
}
